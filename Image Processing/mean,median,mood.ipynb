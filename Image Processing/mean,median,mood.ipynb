{
 "cells": [
  {
   "cell_type": "code",
   "execution_count": 2,
   "metadata": {},
   "outputs": [
    {
     "name": "stdout",
     "output_type": "stream",
     "text": [
      "Mean: 97.39062356935264\n",
      "Median: 119.0\n",
      "Mode: ModeResult(mode=141, count=440723)\n",
      "Variance: 2547.2880274516674\n",
      "Standard Deviation: 50.47066501891636\n"
     ]
    }
   ],
   "source": [
    "import cv2\n",
    "import numpy as np\n",
    "from scipy import stats\n",
    "\n",
    "# Load the image\n",
    "image_path = '2.jpg'\n",
    "image = cv2.imread(image_path, cv2.IMREAD_GRAYSCALE)  # Read the image in grayscale\n",
    "\n",
    "# Flatten the image array to 1D\n",
    "pixel_values = image.flatten()\n",
    "\n",
    "# Calculate statistics\n",
    "mean = np.mean(pixel_values)\n",
    "median = np.median(pixel_values)\n",
    "mode = stats.mode(pixel_values)\n",
    "variance = np.var(pixel_values)\n",
    "std_dev = np.std(pixel_values)\n",
    "\n",
    "# Print the results\n",
    "print(f\"Mean: {mean}\")\n",
    "print(f\"Median: {median}\")\n",
    "print(f\"Mode: {mode}\")\n",
    "print(f\"Variance: {variance}\")\n",
    "print(f\"Standard Deviation: {std_dev}\")\n"
   ]
  }
 ],
 "metadata": {
  "kernelspec": {
   "display_name": "Python 3",
   "language": "python",
   "name": "python3"
  },
  "language_info": {
   "codemirror_mode": {
    "name": "ipython",
    "version": 3
   },
   "file_extension": ".py",
   "mimetype": "text/x-python",
   "name": "python",
   "nbconvert_exporter": "python",
   "pygments_lexer": "ipython3",
   "version": "3.11.4"
  }
 },
 "nbformat": 4,
 "nbformat_minor": 2
}

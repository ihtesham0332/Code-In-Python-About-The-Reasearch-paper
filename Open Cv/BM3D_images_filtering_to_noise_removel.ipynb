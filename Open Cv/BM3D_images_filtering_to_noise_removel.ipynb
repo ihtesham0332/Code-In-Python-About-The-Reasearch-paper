{
 "cells": [
  {
   "cell_type": "code",
   "execution_count": 4,
   "metadata": {},
   "outputs": [],
   "source": [
    "import bm3d\n",
    "import cv2\n",
    "from skimage import io ,img_as_float\n",
    "image=img_as_float(io.imread(\"1.jpg\",as_gray=True))\n",
    "\n",
    "filtered = bm3d.bm3d(image, sigma_psd=0.2, stage_arg=bm3d.BM3DStages.ALL_STAGES)\n",
    "\n",
    "cv2.imwrite(\"filtered_image.jpg\", filtered)\n",
    "cv2.imshow(\"image\", image)\n",
    "cv2.imshow(\"filtered\", filtered)\n",
    "\n",
    "cv2.waitKey(0)\n",
    "cv2.destroyAllWindows()\n"
   ]
  }
 ],
 "metadata": {
  "kernelspec": {
   "display_name": "Python 3",
   "language": "python",
   "name": "python3"
  },
  "language_info": {
   "codemirror_mode": {
    "name": "ipython",
    "version": 3
   },
   "file_extension": ".py",
   "mimetype": "text/x-python",
   "name": "python",
   "nbconvert_exporter": "python",
   "pygments_lexer": "ipython3",
   "version": "3.11.4"
  }
 },
 "nbformat": 4,
 "nbformat_minor": 2
}

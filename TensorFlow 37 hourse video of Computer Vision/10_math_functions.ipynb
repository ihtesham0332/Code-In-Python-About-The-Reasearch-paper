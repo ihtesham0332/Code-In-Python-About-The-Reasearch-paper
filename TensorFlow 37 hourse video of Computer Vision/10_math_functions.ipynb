{
 "cells": [
  {
   "cell_type": "code",
   "execution_count": 2,
   "metadata": {},
   "outputs": [
    {
     "name": "stdout",
     "output_type": "stream",
     "text": [
      "2.16.1\n"
     ]
    },
    {
     "name": "stderr",
     "output_type": "stream",
     "text": [
      "Using TensorFlow backend.\n"
     ]
    }
   ],
   "source": [
    "import tensorflow as tf\n",
    "import numpy as np\n",
    "print(tf.__version__)"
   ]
  },
  {
   "cell_type": "markdown",
   "metadata": {},
   "source": [
    "Use the Maths function in tensorflow"
   ]
  },
  {
   "cell_type": "code",
   "execution_count": 5,
   "metadata": {},
   "outputs": [
    {
     "name": "stdout",
     "output_type": "stream",
     "text": [
      "tf.Tensor([-3. -2. -1.  0.  1.  2.  3.], shape=(7,), dtype=float32)\n",
      "tf.Tensor([3. 2. 1. 0. 1. 2. 3.], shape=(7,), dtype=float32)\n",
      "[3. 2. 1. 0. 1. 2. 3.]\n"
     ]
    }
   ],
   "source": [
    "#abs function which work as Absolute value change the negative value to positive\n",
    "\n",
    "a = tf.constant([-3.0, -2.0, -1.0, 0.0, 1.0, 2.0, 3.0], dtype=tf.float32)\n",
    "print(a)\n",
    "print(tf.abs(a))\n",
    "print(np.abs(a.numpy()))"
   ]
  },
  {
   "cell_type": "markdown",
   "metadata": {},
   "source": [
    "Complex Number"
   ]
  },
  {
   "cell_type": "code",
   "execution_count": 11,
   "metadata": {},
   "outputs": [
    {
     "name": "stdout",
     "output_type": "stream",
     "text": [
      "tf.Tensor([-2.25+4.75j], shape=(1,), dtype=complex128)\n",
      "tf.Tensor([5.25594901], shape=(1,), dtype=float64)\n",
      "[5.25594901]\n"
     ]
    }
   ],
   "source": [
    "#abs function which work as Absolute value change the negative value to positive\n",
    "Complux_number = tf.constant([-2.25+4.75j])\n",
    "print(Complux_number)\n",
    "print(tf.abs(Complux_number))\n",
    "print(np.abs(Complux_number.numpy()))"
   ]
  },
  {
   "cell_type": "markdown",
   "metadata": {},
   "source": [
    "Squre of Numbers"
   ]
  },
  {
   "cell_type": "code",
   "execution_count": 19,
   "metadata": {},
   "outputs": [
    {
     "name": "stdout",
     "output_type": "stream",
     "text": [
      "tf.Tensor([  1   4   9  16  25  36  49  64  81 100], shape=(10,), dtype=int32)\n",
      "[  1   4   9  16  25  36  49  64  81 100]\n",
      "This is the square of the 2 numbers using tensorflow  tf.Tensor([  1   4   9  16  25  36  49  64  81 100], shape=(10,), dtype=int32)\n",
      "This is the square of the 2 numbers using numpy  5.0\n"
     ]
    }
   ],
   "source": [
    "square_of_numbers = tf.constant([1, 2, 3, 4, 5, 6, 7, 8, 9, 10])\n",
    "print(tf.square(square_of_numbers))\n",
    "print(np.square(square_of_numbers.numpy()))\n",
    "#take the square of the 2 numbers and add them using tensorflow and numpy\n",
    "sqroot = tf.constant([1, 2, 3, 4, 5, 6, 7, 8, 9, 10])\n",
    "print(\"This is the square of the 2 numbers using tensorflow \",tf.square(sqroot))\n",
    "\n",
    "print(\"This is the square of the 2 numbers using numpy \",np.sqrt((3**2)+4**2))\n"
   ]
  },
  {
   "cell_type": "markdown",
   "metadata": {},
   "source": [
    "Add the two tensor"
   ]
  },
  {
   "cell_type": "code",
   "execution_count": 20,
   "metadata": {},
   "outputs": [
    {
     "name": "stdout",
     "output_type": "stream",
     "text": [
      "tf.Tensor([ 2  4  6  8 10 12 14 16 18 20], shape=(10,), dtype=int32)\n",
      "[ 2  4  6  8 10 12 14 16 18 20]\n"
     ]
    }
   ],
   "source": [
    "a=tf.constant([1, 2, 3, 4, 5, 6, 7, 8, 9, 10])\n",
    "b=tf.constant([1, 2, 3, 4, 5, 6, 7, 8, 9, 10])\n",
    "print(tf.add(a,b))\n",
    "print(np.add(a.numpy(),b.numpy()))\n"
   ]
  },
  {
   "cell_type": "markdown",
   "metadata": {},
   "source": [
    "Subtraction "
   ]
  },
  {
   "cell_type": "code",
   "execution_count": 32,
   "metadata": {},
   "outputs": [
    {
     "name": "stdout",
     "output_type": "stream",
     "text": [
      "tf.Tensor([1 2 3 4 0], shape=(5,), dtype=int32)\n",
      "[1 2 3 4 0]\n"
     ]
    }
   ],
   "source": [
    "s=tf.constant([2, 4, 6, 8, 5])\n",
    "t=tf.constant([1, 2, 3, 4, 5])\n",
    "#g=tf.constant([1, 1, 1, 1, 4])\n",
    "print(tf.subtract(s,t))\n",
    "print(np.subtract(s.numpy(),t.numpy()))"
   ]
  },
  {
   "cell_type": "markdown",
   "metadata": {},
   "source": [
    "Broadcosting "
   ]
  },
  {
   "cell_type": "code",
   "execution_count": 36,
   "metadata": {},
   "outputs": [
    {
     "name": "stdout",
     "output_type": "stream",
     "text": [
      "tf.Tensor([0 2 4 6 3], shape=(5,), dtype=int32)\n",
      "[0 2 4 6 3]\n"
     ]
    }
   ],
   "source": [
    "s=tf.constant([2, 4, 6, 8, 5])\n",
    "t=tf.constant([ 2])\n",
    "#g=tf.constant([1, 1, 1, 1, 4])\n",
    "print(tf.subtract(s,t))\n",
    "print(np.subtract(s.numpy(),t.numpy()))"
   ]
  }
 ],
 "metadata": {
  "kernelspec": {
   "display_name": "Python 3",
   "language": "python",
   "name": "python3"
  },
  "language_info": {
   "codemirror_mode": {
    "name": "ipython",
    "version": 3
   },
   "file_extension": ".py",
   "mimetype": "text/x-python",
   "name": "python",
   "nbconvert_exporter": "python",
   "pygments_lexer": "ipython3",
   "version": "3.11.4"
  }
 },
 "nbformat": 4,
 "nbformat_minor": 2
}

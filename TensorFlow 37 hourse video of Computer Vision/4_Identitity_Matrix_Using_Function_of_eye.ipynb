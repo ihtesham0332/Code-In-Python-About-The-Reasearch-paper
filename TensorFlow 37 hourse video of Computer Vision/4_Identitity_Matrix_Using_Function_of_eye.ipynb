{
 "cells": [
  {
   "cell_type": "code",
   "execution_count": 6,
   "metadata": {},
   "outputs": [
    {
     "name": "stdout",
     "output_type": "stream",
     "text": [
      "tf.Tensor(\n",
      "[[1 0 0 0]\n",
      " [0 1 0 0]\n",
      " [0 0 1 0]\n",
      " [0 0 0 1]], shape=(4, 4), dtype=int16)\n"
     ]
    }
   ],
   "source": [
    "import tensorflow as tf \n",
    "\n",
    "Identity_Matrix=tf.eye(4,4,None,tf.dtypes.int16,None)\n",
    "print(Identity_Matrix)"
   ]
  },
  {
   "cell_type": "markdown",
   "metadata": {},
   "source": [
    "Using Boolen "
   ]
  },
  {
   "cell_type": "code",
   "execution_count": 7,
   "metadata": {},
   "outputs": [
    {
     "name": "stdout",
     "output_type": "stream",
     "text": [
      "tf.Tensor(\n",
      "[[ True False False False]\n",
      " [False  True False False]\n",
      " [False False  True False]\n",
      " [False False False  True]], shape=(4, 4), dtype=bool)\n"
     ]
    }
   ],
   "source": [
    "Identity_Matrix=tf.eye(4,4,None,tf.dtypes.bool,None)\n",
    "print(Identity_Matrix)"
   ]
  },
  {
   "cell_type": "markdown",
   "metadata": {},
   "source": [
    "Using Float"
   ]
  },
  {
   "cell_type": "code",
   "execution_count": 8,
   "metadata": {},
   "outputs": [
    {
     "name": "stdout",
     "output_type": "stream",
     "text": [
      "tf.Tensor(\n",
      "[[1. 0. 0. 0.]\n",
      " [0. 1. 0. 0.]\n",
      " [0. 0. 1. 0.]\n",
      " [0. 0. 0. 1.]], shape=(4, 4), dtype=float16)\n"
     ]
    }
   ],
   "source": [
    "Identity_Matrix=tf.eye(4,4,None,tf.dtypes.float16,None)\n",
    "print(Identity_Matrix)"
   ]
  },
  {
   "cell_type": "markdown",
   "metadata": {},
   "source": [
    "Fill Tensor Making Using The Fuction fill"
   ]
  },
  {
   "cell_type": "code",
   "execution_count": 12,
   "metadata": {},
   "outputs": [
    {
     "name": "stdout",
     "output_type": "stream",
     "text": [
      "tf.Tensor(\n",
      "[[[4 4 4]\n",
      "  [4 4 4]\n",
      "  [4 4 4]]], shape=(1, 3, 3), dtype=int32)\n"
     ]
    }
   ],
   "source": [
    "Fill_tensor=tf.fill(\n",
    "    dims=[1,3,3], value=4, name=None, layout=None\n",
    ")\n",
    "print(Fill_tensor)"
   ]
  }
 ],
 "metadata": {
  "kernelspec": {
   "display_name": "Python 3",
   "language": "python",
   "name": "python3"
  },
  "language_info": {
   "codemirror_mode": {
    "name": "ipython",
    "version": 3
   },
   "file_extension": ".py",
   "mimetype": "text/x-python",
   "name": "python",
   "nbconvert_exporter": "python",
   "pygments_lexer": "ipython3",
   "version": "3.11.4"
  }
 },
 "nbformat": 4,
 "nbformat_minor": 2
}

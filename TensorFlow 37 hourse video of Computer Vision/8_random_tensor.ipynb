{
 "cells": [
  {
   "cell_type": "code",
   "execution_count": 15,
   "metadata": {},
   "outputs": [
    {
     "name": "stdout",
     "output_type": "stream",
     "text": [
      "tf.Tensor(\n",
      "[[ -5.1574907  10.195328   -4.8788757]\n",
      " [  3.141136  -24.56399    36.183037 ]\n",
      " [ -5.5786896 -17.927694   -6.0669575]], shape=(3, 3), dtype=float32)\n"
     ]
    }
   ],
   "source": [
    "import tensorflow as tf \n",
    "create_a_random_tensor=tf.random.normal([3,3],5,20,dtype=tf.dtypes.float32)\n",
    "print(create_a_random_tensor)"
   ]
  },
  {
   "cell_type": "code",
   "execution_count": 20,
   "metadata": {},
   "outputs": [
    {
     "name": "stdout",
     "output_type": "stream",
     "text": [
      "tf.Tensor(\n",
      "[[799  48  45 923 339 975 236 419 353 159]\n",
      " [409 220 882 508 541  79 334 681 346 199]\n",
      " [674  57 336 415 616 163 417 504 114 820]\n",
      " [406 668 859 206 360 122  96 755 558 101]\n",
      " [345  57  26 214 280 665 769 431 293 436]\n",
      " [507 820 208 729 279 557 107 635 728 271]\n",
      " [735 116  75 426 157 636 497  52 359 645]\n",
      " [147 499 773 645 369 499 425 416 554 699]\n",
      " [598 995 357 276 689 109 881 830 728 204]\n",
      " [248   7 453 340 944 432 650 328 714 187]], shape=(10, 10), dtype=int32)\n"
     ]
    }
   ],
   "source": [
    "create_a_random_tensor_by_uniform=tf.random.uniform([10,10],minval=0,maxval=1000,dtype=tf.dtypes.int32)\n",
    "print(create_a_random_tensor_by_uniform)\n"
   ]
  },
  {
   "cell_type": "markdown",
   "metadata": {},
   "source": [
    "Using the Seed"
   ]
  },
  {
   "cell_type": "code",
   "execution_count": 21,
   "metadata": {},
   "outputs": [
    {
     "name": "stdout",
     "output_type": "stream",
     "text": [
      "tf.Tensor(\n",
      "[[0 2 5 7]\n",
      " [2 2 3 5]\n",
      " [9 0 2 3]\n",
      " [0 1 4 1]], shape=(4, 4), dtype=int32)\n"
     ]
    }
   ],
   "source": [
    "create_a_random_tensor_by_uniform_use_seed=tf.random.uniform([4,4],minval=0,maxval=10,dtype=tf.dtypes.int32,seed=10)\n",
    "print(create_a_random_tensor_by_uniform_use_seed)\n",
    " "
   ]
  }
 ],
 "metadata": {
  "kernelspec": {
   "display_name": "Python 3",
   "language": "python",
   "name": "python3"
  },
  "language_info": {
   "codemirror_mode": {
    "name": "ipython",
    "version": 3
   },
   "file_extension": ".py",
   "mimetype": "text/x-python",
   "name": "python",
   "nbconvert_exporter": "python",
   "pygments_lexer": "ipython3",
   "version": "3.11.4"
  }
 },
 "nbformat": 4,
 "nbformat_minor": 2
}

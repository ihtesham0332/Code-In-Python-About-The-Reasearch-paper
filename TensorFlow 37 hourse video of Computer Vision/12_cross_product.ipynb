{
 "cells": [
  {
   "cell_type": "code",
   "execution_count": 12,
   "metadata": {},
   "outputs": [
    {
     "name": "stdout",
     "output_type": "stream",
     "text": [
      "[[10  9  2]\n",
      " [25  6  4]] \n",
      "\n",
      "[[ 60  54]\n",
      " [100  90]]\n"
     ]
    }
   ],
   "source": [
    "import numpy as np \n",
    "A=np.array([[2,3,1],\n",
    "            [5,3,2]])\n",
    "B=np.array([[5,3,2],\n",
    "            [5,2,2]])\n",
    "#multiply the A and B matrix\n",
    "print(np.multiply(A,B),\"\\n\")\n",
    "# #Mutiplication using einsum function\n",
    "print(np.einsum(\"ij,kl -> ik\",A,B))"
   ]
  },
  {
   "cell_type": "markdown",
   "metadata": {},
   "source": [
    "Transpose using Einsum\n"
   ]
  },
  {
   "cell_type": "code",
   "execution_count": 18,
   "metadata": {},
   "outputs": [
    {
     "name": "stdout",
     "output_type": "stream",
     "text": [
      "This will give the transpose of the matrix [[2 5]\n",
      " [3 3]\n",
      " [1 2]]\n",
      "This will give the Sum of Full Matrix 16\n",
      "This will give the Sum of Colum in the  Matrix [7 6 3]\n",
      "This will give the Sum of Rows in the  Matrix [ 6 10]\n"
     ]
    }
   ],
   "source": [
    "A=np.array([[2,3,1],\n",
    "            [5,3,2]])\n",
    "print(\"This will give the transpose of the matrix\",np.einsum(\"ij -> ji\",A)) \n",
    "#the sum of the array \n",
    "print(\"This will give the Sum of Full Matrix\",np.einsum('ij ->',A))\n",
    "#the sum of the Colum\n",
    "print(\"This will give the Sum of Colum in the  Matrix\",np.einsum('ij -> j',A))\n",
    "#the sum of the row\n",
    "print(\"This will give the Sum of Rows in the  Matrix\",np.einsum('ij -> i',A))"
   ]
  }
 ],
 "metadata": {
  "kernelspec": {
   "display_name": "Python 3",
   "language": "python",
   "name": "python3"
  },
  "language_info": {
   "codemirror_mode": {
    "name": "ipython",
    "version": 3
   },
   "file_extension": ".py",
   "mimetype": "text/x-python",
   "name": "python",
   "nbconvert_exporter": "python",
   "pygments_lexer": "ipython3",
   "version": "3.11.4"
  }
 },
 "nbformat": 4,
 "nbformat_minor": 2
}

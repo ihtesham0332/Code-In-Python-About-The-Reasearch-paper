{
 "cells": [
  {
   "cell_type": "code",
   "execution_count": 2,
   "metadata": {},
   "outputs": [],
   "source": [
    "import tensorflow as tf\n",
    "import numpy as np \n"
   ]
  },
  {
   "cell_type": "markdown",
   "metadata": {},
   "source": [
    "Increase the dimention of the the tensor "
   ]
  },
  {
   "cell_type": "code",
   "execution_count": 19,
   "metadata": {},
   "outputs": [
    {
     "name": "stdout",
     "output_type": "stream",
     "text": [
      "the dimension of the tensor  tf.Tensor([4 2 4], shape=(3,), dtype=int32)\n",
      "tf.Tensor([4 2 4 1], shape=(4,), dtype=int32)\n"
     ]
    }
   ],
   "source": [
    "Three_dim_tensor=tf.constant([[[4,3,2,1],\n",
    "                            [5,3,2,1]],\n",
    "                              \n",
    "                            [[3,12,4,5],\n",
    "                            [4,3,2,1]],\n",
    "                    \n",
    "                            [[3,12,4,5],\n",
    "                            [4,3,2,1]],\n",
    "                            \n",
    "                            [[3,12,4,5],\n",
    "                            [4,3,2,1]]])\n",
    "\n",
    "print(\"the dimension of the tensor \",tf  ,tf.shape(Three_dim_tensor))\n",
    "\n",
    "# Know increase the dimension of the tensor\n",
    "increase_tensor=tf.expand_dims(Three_dim_tensor,axis=3)\n",
    "print(tf.shape(increase_tensor))"
   ]
  },
  {
   "cell_type": "code",
   "execution_count": 2,
   "metadata": {},
   "outputs": [],
   "source": [
    "#decrease the dimension \n",
    "decrease_the_dimention=tf."
   ]
  }
 ],
 "metadata": {
  "kernelspec": {
   "display_name": "Python 3",
   "language": "python",
   "name": "python3"
  },
  "language_info": {
   "codemirror_mode": {
    "name": "ipython",
    "version": 3
   },
   "file_extension": ".py",
   "mimetype": "text/x-python",
   "name": "python",
   "nbconvert_exporter": "python",
   "pygments_lexer": "ipython3",
   "version": "3.11.4"
  }
 },
 "nbformat": 4,
 "nbformat_minor": 2
}

{
 "cells": [
  {
   "cell_type": "markdown",
   "metadata": {},
   "source": [
    "Make a Matrix with all 1 elements on it"
   ]
  },
  {
   "cell_type": "code",
   "execution_count": 3,
   "metadata": {},
   "outputs": [
    {
     "name": "stdout",
     "output_type": "stream",
     "text": [
      "tf.Tensor(\n",
      "[[1 1 1]\n",
      " [1 1 1]], shape=(2, 3), dtype=int8)\n"
     ]
    }
   ],
   "source": [
    "import tensorflow as tf\n",
    "one_tf=tf.ones(\n",
    "    shape=[2, 3],\n",
    "    dtype=tf.dtypes.int8,\n",
    "    name=None,\n",
    "    layout=None\n",
    ")\n",
    "print(one_tf)"
   ]
  },
  {
   "cell_type": "markdown",
   "metadata": {},
   "source": [
    "Convert all the Matrix in 1 "
   ]
  },
  {
   "cell_type": "code",
   "execution_count": 4,
   "metadata": {},
   "outputs": [
    {
     "name": "stdout",
     "output_type": "stream",
     "text": [
      "<tf.Variable 'Variable:0' shape=(2, 4) dtype=int8, numpy=\n",
      "array([[2, 4, 3, 5],\n",
      "       [2, 4, 3, 5]], dtype=int8)>\n",
      "tf.Tensor(\n",
      "[[1 1 1 1]\n",
      " [1 1 1 1]], shape=(2, 4), dtype=int8)\n"
     ]
    }
   ],
   "source": [
    "make_a_matrix=tf.Variable([[2,4,3,5],\n",
    "                          [2,4,3,5]],dtype=tf.int8)\n",
    "print(make_a_matrix)\n",
    " \n",
    "#know convert all the elements of this matrix in to 1\n",
    "convert_matrix_in_one=tf.ones_like(make_a_matrix)\n",
    "print(convert_matrix_in_one)\n"
   ]
  },
  {
   "cell_type": "markdown",
   "metadata": {},
   "source": []
  }
 ],
 "metadata": {
  "kernelspec": {
   "display_name": "Python 3",
   "language": "python",
   "name": "python3"
  },
  "language_info": {
   "codemirror_mode": {
    "name": "ipython",
    "version": 3
   },
   "file_extension": ".py",
   "mimetype": "text/x-python",
   "name": "python",
   "nbconvert_exporter": "python",
   "pygments_lexer": "ipython3",
   "version": "3.11.4"
  }
 },
 "nbformat": 4,
 "nbformat_minor": 2
}

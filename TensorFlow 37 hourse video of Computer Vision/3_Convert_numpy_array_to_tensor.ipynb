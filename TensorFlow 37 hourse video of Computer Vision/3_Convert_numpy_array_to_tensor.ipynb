{
 "cells": [
  {
   "cell_type": "markdown",
   "metadata": {},
   "source": [
    "Convert the numpy array to tensor "
   ]
  },
  {
   "cell_type": "code",
   "execution_count": 6,
   "metadata": {},
   "outputs": [
    {
     "name": "stdout",
     "output_type": "stream",
     "text": [
      "[ 1  4  3  2  4 65] the dimention of the numpy array 1\n",
      "This is the converted  tf.Tensor([ 1  4  3  2  4 65], shape=(6,), dtype=int32) The Dimention of the tensor  1\n"
     ]
    }
   ],
   "source": [
    "import tensorflow as tf\n",
    "import numpy as np \n",
    "#this is the Numpy Array\n",
    "numpy_array=np.array([1,4,3,2,4,65,])\n",
    "print(numpy_array,\"the dimention of the numpy array\",numpy_array.ndim)\n",
    "\n",
    "#Convert to tensor\n",
    "convert_numpy_array_to_tensor=tf.convert_to_tensor(numpy_array)\n",
    "print(\"This is the converted \",convert_numpy_array_to_tensor,\"The Dimention of the tensor \",convert_numpy_array_to_tensor.ndim)"
   ]
  }
 ],
 "metadata": {
  "kernelspec": {
   "display_name": "Python 3",
   "language": "python",
   "name": "python3"
  },
  "language_info": {
   "codemirror_mode": {
    "name": "ipython",
    "version": 3
   },
   "file_extension": ".py",
   "mimetype": "text/x-python",
   "name": "python",
   "nbconvert_exporter": "python",
   "pygments_lexer": "ipython3",
   "version": "3.11.4"
  }
 },
 "nbformat": 4,
 "nbformat_minor": 2
}

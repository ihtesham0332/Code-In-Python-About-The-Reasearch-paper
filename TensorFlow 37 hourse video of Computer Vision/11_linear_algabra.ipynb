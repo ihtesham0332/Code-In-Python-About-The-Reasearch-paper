{
 "cells": [
  {
   "cell_type": "markdown",
   "metadata": {},
   "source": [
    "Multiplication \n"
   ]
  },
  {
   "cell_type": "code",
   "execution_count": 14,
   "metadata": {},
   "outputs": [
    {
     "name": "stdout",
     "output_type": "stream",
     "text": [
      "tf.Tensor([3 3], shape=(2,), dtype=int32)\n",
      "tf.Tensor([3 3], shape=(2,), dtype=int32)\n",
      "tf.Tensor(\n",
      "[[18 17 24]\n",
      " [30 27 40]\n",
      " [30 27 40]], shape=(3, 3), dtype=int32)\n"
     ]
    }
   ],
   "source": [
    "import tensorflow as tf \n",
    "matrix_1=tf.constant([[1,2,3],\n",
    "                      [3,3,4],\n",
    "                      [3,3,4]])\n",
    "matrix_2=tf.constant([[3,2,4],\n",
    "                      [3,3,4],\n",
    "                      [3,3,4]])\n",
    "print(tf.shape(matrix_1))\n",
    "print(tf.shape(matrix_2))\n",
    "print(tf.linalg.matmul(\n",
    "    matrix_1,\n",
    "    matrix_2,\n",
    "    transpose_a=False,\n",
    "    transpose_b=False,\n",
    "    adjoint_a=False,\n",
    "    adjoint_b=False,\n",
    "    a_is_sparse=False,\n",
    "    b_is_sparse=False,\n",
    "    output_type=None,\n",
    "    grad_a=False,\n",
    "    grad_b=False,\n",
    "    name=None\n",
    "))"
   ]
  },
  {
   "cell_type": "markdown",
   "metadata": {},
   "source": [
    "Take a traspose of a Matrix Transpose change the matrix row to colum"
   ]
  },
  {
   "cell_type": "code",
   "execution_count": 15,
   "metadata": {},
   "outputs": [
    {
     "name": "stdout",
     "output_type": "stream",
     "text": [
      "tf.Tensor(\n",
      "[[1 3 3]\n",
      " [2 3 3]\n",
      " [3 4 4]], shape=(3, 3), dtype=int32)\n"
     ]
    }
   ],
   "source": [
    "print(tf.transpose(matrix_1))"
   ]
  },
  {
   "cell_type": "code",
   "execution_count": 16,
   "metadata": {},
   "outputs": [
    {
     "name": "stdout",
     "output_type": "stream",
     "text": [
      "tf.Tensor(\n",
      "[[18 17 24]\n",
      " [30 27 40]\n",
      " [30 27 40]], shape=(3, 3), dtype=int32)\n"
     ]
    }
   ],
   "source": [
    "print(matrix_1@matrix_2)"
   ]
  },
  {
   "cell_type": "code",
   "execution_count": 19,
   "metadata": {},
   "outputs": [
    {
     "name": "stdout",
     "output_type": "stream",
     "text": [
      "tf.Tensor(\n",
      "[[1 2 3]\n",
      " [3 3 4]\n",
      " [3 3 4]], shape=(3, 3), dtype=int32) tf.Tensor(\n",
      "[[1 3 3]\n",
      " [2 3 3]\n",
      " [3 4 4]], shape=(3, 3), dtype=int32)\n"
     ]
    }
   ],
   "source": [
    "print(matrix_1,tf.linalg.adjoint(matrix_1))"
   ]
  }
 ],
 "metadata": {
  "kernelspec": {
   "display_name": "Python 3",
   "language": "python",
   "name": "python3"
  },
  "language_info": {
   "codemirror_mode": {
    "name": "ipython",
    "version": 3
   },
   "file_extension": ".py",
   "mimetype": "text/x-python",
   "name": "python",
   "nbconvert_exporter": "python",
   "pygments_lexer": "ipython3",
   "version": "3.11.4"
  }
 },
 "nbformat": 4,
 "nbformat_minor": 2
}
